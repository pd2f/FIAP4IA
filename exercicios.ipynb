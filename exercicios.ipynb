{
  "nbformat": 4,
  "nbformat_minor": 0,
  "metadata": {
    "colab": {
      "name": "exercicios.ipynb",
      "version": "0.3.2",
      "provenance": [],
      "collapsed_sections": [],
      "include_colab_link": true
    },
    "kernelspec": {
      "name": "python3",
      "display_name": "Python 3"
    }
  },
  "cells": [
    {
      "cell_type": "markdown",
      "metadata": {
        "id": "view-in-github",
        "colab_type": "text"
      },
      "source": [
        "<a href=\"https://colab.research.google.com/github/pd2f/FIAP4IA/blob/master/exercicios.ipynb\" target=\"_parent\"><img src=\"https://colab.research.google.com/assets/colab-badge.svg\" alt=\"Open In Colab\"/></a>"
      ]
    },
    {
      "metadata": {
        "id": "27lwyrz21o3S",
        "colab_type": "code",
        "outputId": "649692be-d17b-4556-930e-34526a9b57d4",
        "colab": {
          "base_uri": "https://localhost:8080/",
          "height": 34
        }
      },
      "cell_type": "code",
      "source": [
        "from string import capwords\n",
        "nome = \"josé da silva martins\"\n",
        "nome = capwords(nome)\n",
        "print(nome)"
      ],
      "execution_count": 0,
      "outputs": [
        {
          "output_type": "stream",
          "text": [
            "José Da Silva Martins\n"
          ],
          "name": "stdout"
        }
      ]
    },
    {
      "metadata": {
        "id": "xpi_pGS03DBw",
        "colab_type": "code",
        "outputId": "a66b864e-1424-4c8d-a497-2c6e92ce2901",
        "colab": {
          "base_uri": "https://localhost:8080/",
          "height": 34
        }
      },
      "cell_type": "code",
      "source": [
        "def num_par(num):\n",
        "  return bool(num%2)\n",
        "\n",
        "num_par(18)"
      ],
      "execution_count": 0,
      "outputs": [
        {
          "output_type": "execute_result",
          "data": {
            "text/plain": [
              "False"
            ]
          },
          "metadata": {
            "tags": []
          },
          "execution_count": 7
        }
      ]
    },
    {
      "metadata": {
        "id": "u463nw383apY",
        "colab_type": "code",
        "outputId": "d3715b20-0718-43bf-c322-db7150d75ebb",
        "colab": {
          "base_uri": "https://localhost:8080/",
          "height": 102
        }
      },
      "cell_type": "code",
      "source": [
        "l = [1.2232, 2.322, 43.23131, 6.34324, 78.3243] \n",
        "x=0\n",
        "for i in l:\n",
        "  print(round(i,2))\n",
        " "
      ],
      "execution_count": 0,
      "outputs": [
        {
          "output_type": "stream",
          "text": [
            "1.22\n",
            "2.32\n",
            "43.23\n",
            "6.34\n",
            "78.32\n"
          ],
          "name": "stdout"
        }
      ]
    },
    {
      "metadata": {
        "id": "EZeiwE3Li87p",
        "colab_type": "code",
        "colab": {}
      },
      "cell_type": "code",
      "source": [
        "frase = \"\"\"\"Brasil, oficialmente República Federativa do Brasil é o maior país da América do Sul e da região da América Latina, sendo o quinto maior do mundo em área territorial (equivalente a 47 porcento do território sul-americano) e sexto em população (com mais de 200 milhões de habitantes). É o único país na América onde se fala majoritariamente a língua portuguesa e o maior país lusófono do planeta, além de ser uma das nações mais multiculturais e etnicamente diversas, em decorrência da forte imigração oriunda de variados locais do mundo.\"\"\"\n",
        "\n",
        "def palavras(texto):\n",
        "  palavras\n",
        "  numeros\n",
        "  for item in texto.split(\" \"):\n",
        "    if item.isdigit():\n",
        "      numeros.append(item)\n",
        "    else:\n",
        "      palavras.append(item)\n",
        "  for fras in texto.split(\".\"): \n",
        "    if frase:\n",
        "      frase.append(frase)    \n",
        "  print(\"Palavras:\",str(palavras.count()) \n",
        "\n",
        "palavras(frase)"
      ],
      "execution_count": 0,
      "outputs": []
    },
    {
      "metadata": {
        "id": "Dho94SMl1tmG",
        "colab_type": "text"
      },
      "cell_type": "markdown",
      "source": [
        "## **Aula 3 (15/12) Desafio 1**"
      ]
    },
    {
      "metadata": {
        "id": "VYfd8LfWyzVx",
        "colab_type": "code",
        "colab": {
          "base_uri": "https://localhost:8080/",
          "height": 51
        },
        "outputId": "a9e709e9-35b1-43fe-d9f4-3f1f9d69bd6f"
      },
      "cell_type": "code",
      "source": [
        "\n",
        "class circulo:\n",
        "  \n",
        "  def __init__(self,raio):\n",
        "    self.raio = raio\n",
        "  \n",
        "  def get_area(self):\n",
        "    return pi*self.raio**2\n",
        "    \n",
        "  def get_perimetro(self):\n",
        "    return 2*pi*self.raio\n",
        "\n",
        "raio = 7.9\n",
        "c= circulo(raio)\n",
        "print(c.get_area())\n",
        "print(c.get_perimetro())"
      ],
      "execution_count": 19,
      "outputs": [
        {
          "output_type": "stream",
          "text": [
            "196.066797510539\n",
            "49.637163926718735\n"
          ],
          "name": "stdout"
        }
      ]
    },
    {
      "metadata": {
        "id": "QLSBcXFe18mm",
        "colab_type": "text"
      },
      "cell_type": "markdown",
      "source": [
        "## **Aula 3 (15/12) Desafio 2**"
      ]
    },
    {
      "metadata": {
        "id": "hzey6gQH17s4",
        "colab_type": "code",
        "colab": {
          "base_uri": "https://localhost:8080/",
          "height": 34
        },
        "outputId": "3f14bb0d-2569-4806-e5f0-e95157e7c4b3"
      },
      "cell_type": "code",
      "source": [
        "class quadrado:\n",
        "  def __init__(self,lado):\n",
        "    self.lado = lado\n",
        "  def get_area(self):\n",
        "    return self.lado**2\n",
        "q = quadrado(2)\n",
        "print(q.get_area())"
      ],
      "execution_count": 21,
      "outputs": [
        {
          "output_type": "stream",
          "text": [
            "9\n"
          ],
          "name": "stdout"
        }
      ]
    },
    {
      "metadata": {
        "id": "f46LzYxk4GIg",
        "colab_type": "text"
      },
      "cell_type": "markdown",
      "source": [
        "## **Aula 3 (15/12) Desafio 3**\n"
      ]
    },
    {
      "metadata": {
        "id": "kj_6Pbxt4IH1",
        "colab_type": "code",
        "colab": {
          "base_uri": "https://localhost:8080/",
          "height": 350
        },
        "outputId": "ab544a79-ebf0-4d50-a369-9defd5bc6194"
      },
      "cell_type": "code",
      "source": [
        "\"\"\"\n",
        "Criação de exeption personalizadas\n",
        "\"\"\"\n",
        "class business_exception(LookupError):\n",
        "  '''Erro encontrado'''\n",
        "  \n",
        "\"\"\"\n",
        "Criação da classe exigida no desafio\n",
        "\"\"\"\n",
        "class carro:\n",
        "  def __init__(self,tanque=0,consumo=None):\n",
        "    self.tanque = tanque\n",
        "    self.consumo = consumo\n",
        "  \n",
        "#Lançando exception personalizada\n",
        "  def mover(self,km):\n",
        "    consumo = km / self.consumo\n",
        "    if consumo > self.tanque:\n",
        "      raise business_exception(\"Sem combustível suficiente. O tanque está com:\",self.tanque, \" e o movimento consumirá:\",consumo)\n",
        "    else:\n",
        "      self.tanque -= consumo\n",
        "  \n",
        "  def gasolina(self):\n",
        "    return self.tanque\n",
        "  \n",
        "  def abastecer(self,combustivel):\n",
        "    self.tanque += combustivel\n",
        "\n",
        "cr = carro(consumo=10)\n",
        "cr.abastecer(50)\n",
        "cr.mover(10)\n",
        "print(\"deslocamento 1\",cr.gasolina())\n",
        "cr.mover(300)\n",
        "print(\"deslocamento 2\",cr.gasolina())\n",
        "cr.mover(200)"
      ],
      "execution_count": 64,
      "outputs": [
        {
          "output_type": "stream",
          "text": [
            "deslocamento 1 49.0\n",
            "deslocamento 2 19.0\n"
          ],
          "name": "stdout"
        },
        {
          "output_type": "error",
          "ename": "business_exception",
          "evalue": "ignored",
          "traceback": [
            "\u001b[0;31m---------------------------------------------------------------------------\u001b[0m",
            "\u001b[0;31mbusiness_exception\u001b[0m                        Traceback (most recent call last)",
            "\u001b[0;32m<ipython-input-64-f4f496d20d65>\u001b[0m in \u001b[0;36m<module>\u001b[0;34m()\u001b[0m\n\u001b[1;32m     33\u001b[0m \u001b[0mcr\u001b[0m\u001b[0;34m.\u001b[0m\u001b[0mmover\u001b[0m\u001b[0;34m(\u001b[0m\u001b[0;36m300\u001b[0m\u001b[0;34m)\u001b[0m\u001b[0;34m\u001b[0m\u001b[0;34m\u001b[0m\u001b[0m\n\u001b[1;32m     34\u001b[0m \u001b[0mprint\u001b[0m\u001b[0;34m(\u001b[0m\u001b[0;34m\"deslocamento 2\"\u001b[0m\u001b[0;34m,\u001b[0m\u001b[0mcr\u001b[0m\u001b[0;34m.\u001b[0m\u001b[0mgasolina\u001b[0m\u001b[0;34m(\u001b[0m\u001b[0;34m)\u001b[0m\u001b[0;34m)\u001b[0m\u001b[0;34m\u001b[0m\u001b[0;34m\u001b[0m\u001b[0m\n\u001b[0;32m---> 35\u001b[0;31m \u001b[0mcr\u001b[0m\u001b[0;34m.\u001b[0m\u001b[0mmover\u001b[0m\u001b[0;34m(\u001b[0m\u001b[0;36m200\u001b[0m\u001b[0;34m)\u001b[0m\u001b[0;34m\u001b[0m\u001b[0;34m\u001b[0m\u001b[0m\n\u001b[0m",
            "\u001b[0;32m<ipython-input-64-f4f496d20d65>\u001b[0m in \u001b[0;36mmover\u001b[0;34m(self, km)\u001b[0m\n\u001b[1;32m     17\u001b[0m     \u001b[0mconsumo\u001b[0m \u001b[0;34m=\u001b[0m \u001b[0mkm\u001b[0m \u001b[0;34m/\u001b[0m \u001b[0mself\u001b[0m\u001b[0;34m.\u001b[0m\u001b[0mconsumo\u001b[0m\u001b[0;34m\u001b[0m\u001b[0;34m\u001b[0m\u001b[0m\n\u001b[1;32m     18\u001b[0m     \u001b[0;32mif\u001b[0m \u001b[0mconsumo\u001b[0m \u001b[0;34m>\u001b[0m \u001b[0mself\u001b[0m\u001b[0;34m.\u001b[0m\u001b[0mtanque\u001b[0m\u001b[0;34m:\u001b[0m\u001b[0;34m\u001b[0m\u001b[0;34m\u001b[0m\u001b[0m\n\u001b[0;32m---> 19\u001b[0;31m       \u001b[0;32mraise\u001b[0m \u001b[0mbusiness_exception\u001b[0m\u001b[0;34m(\u001b[0m\u001b[0;34m\"Sem combustível suficiente. O tanque está com:\"\u001b[0m\u001b[0;34m,\u001b[0m\u001b[0mself\u001b[0m\u001b[0;34m.\u001b[0m\u001b[0mtanque\u001b[0m\u001b[0;34m,\u001b[0m \u001b[0;34m\" e o movimento consumirá:\"\u001b[0m\u001b[0;34m,\u001b[0m\u001b[0mconsumo\u001b[0m\u001b[0;34m)\u001b[0m\u001b[0;34m\u001b[0m\u001b[0;34m\u001b[0m\u001b[0m\n\u001b[0m\u001b[1;32m     20\u001b[0m     \u001b[0;32melse\u001b[0m\u001b[0;34m:\u001b[0m\u001b[0;34m\u001b[0m\u001b[0;34m\u001b[0m\u001b[0m\n\u001b[1;32m     21\u001b[0m       \u001b[0mself\u001b[0m\u001b[0;34m.\u001b[0m\u001b[0mtanque\u001b[0m \u001b[0;34m-=\u001b[0m \u001b[0mconsumo\u001b[0m\u001b[0;34m\u001b[0m\u001b[0;34m\u001b[0m\u001b[0m\n",
            "\u001b[0;31mbusiness_exception\u001b[0m: ('Sem combustível suficiente. O tanque está com:', 19.0, ' e o movimento consumirá:', 20.0)"
          ]
        }
      ]
    }
  ]
}